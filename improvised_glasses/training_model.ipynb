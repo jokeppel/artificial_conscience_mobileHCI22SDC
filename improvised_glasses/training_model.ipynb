{
 "cells": [
  {
   "cell_type": "code",
   "execution_count": 1,
   "id": "f7e5fc41-65eb-490a-a0a3-ee69b3e08c27",
   "metadata": {},
   "outputs": [],
   "source": [
    "#FIRST CELL: set these variables to limit GPU usage.\n",
    "import os \n",
    "os.environ['TF_FORCE_GPU_ALLOW_GROWTH'] = 'true' #this is required\n",
    "os.environ['CUDA_VISIBLE_DEVICES'] = '1' #set to '0' for GPU0, '1' for GPU1 or '2' for GPU2"
   ]
  },
  {
   "cell_type": "code",
   "execution_count": 2,
   "id": "64539cf4-51d8-415e-b079-bc6cfcce5d23",
   "metadata": {},
   "outputs": [],
   "source": [
    "import math\n",
    "import pandas as pd\n",
    "import seaborn as sns\n",
    "import matplotlib.pyplot as plt\n",
    "from sklearn.neighbors import KNeighborsClassifier\n",
    "from sklearn.metrics import classification_report\n",
    "from sklearn.metrics import ConfusionMatrixDisplay\n",
    "from sklearn.model_selection import train_test_split\n",
    "from sklearn.ensemble import RandomForestClassifier\n",
    "from sklearn import svm\n",
    "from sklearn import tree\n",
    "import collections\n",
    "import sys\n",
    "import numpy\n",
    "import pickle\n",
    "import pprint\n",
    "import re\n",
    "from sklearn import tree\n",
    "from numba import jit, cuda"
   ]
  },
  {
   "cell_type": "code",
   "execution_count": 3,
   "id": "b0a1947a-5dbe-483e-a6ee-9a5b5da43a09",
   "metadata": {},
   "outputs": [],
   "source": [
    "def selection_extention(trimmed_set):\n",
    "    each_x = math.ceil(len(trimmed_set) / 20)\n",
    "    if(each_x <= 0):\n",
    "        trimmed_set = trimmed_set\n",
    "    else:\n",
    "        trimmed_set = trimmed_set[::each_x]\n",
    "    \n",
    "    trimmed_set = trimmed_set.reset_index()\n",
    "        \n",
    "    for i in range(20 - len(trimmed_set)):\n",
    "        time = trimmed_set['time'][len(trimmed_set)-1] + 1\n",
    "        trimmed_set.loc[trimmed_set.shape[0]] = [0,0,0,0,0,0,0,0,0,0,time]\n",
    "        \n",
    "    trimmed_set.drop('time', inplace=True, axis=1)\n",
    "    trimmed_set.drop('id', inplace=True, axis=1)\n",
    "    trimmed_set.drop('userName', inplace=True, axis=1)\n",
    "    trimmed_set.drop('gestureName', inplace=True, axis=1)\n",
    "    trimmed_set.drop('index', inplace=True, axis=1)\n",
    "    \n",
    "    return trimmed_set"
   ]
  },
  {
   "cell_type": "code",
   "execution_count": 4,
   "id": "e208c9c5-6ad6-4cde-9606-edcd90b40116",
   "metadata": {},
   "outputs": [],
   "source": [
    "def convert_to_np(dataset):\n",
    "    arr2d = dataset.to_numpy()\n",
    "    arr1d = arr2d.flatten()\n",
    "    \n",
    "    #print(arr2d)\n",
    "    \n",
    "    return arr1d"
   ]
  },
  {
   "cell_type": "code",
   "execution_count": 5,
   "id": "90812c79-9f9b-45a5-8366-4153cdfaac19",
   "metadata": {},
   "outputs": [
    {
     "name": "stdout",
     "output_type": "stream",
     "text": [
      "CPU times: user 6.22 s, sys: 17.6 ms, total: 6.24 s\n",
      "Wall time: 6.24 s\n"
     ]
    }
   ],
   "source": [
    "%%time\n",
    "path = \"recordiong_new\"\n",
    "all_folders = os.listdir(path)\n",
    "all_folders.sort(key=int)\n",
    "\n",
    "all_dataset = {}\n",
    "calibration = {}\n",
    "\n",
    "all_dataset['label'] = list()\n",
    "all_dataset['data'] = list()\n",
    "\n",
    "if os.path.exists('pickle.pk1') is False:\n",
    "\n",
    "    for folder in all_folders:\n",
    "        data_path = path + \"/\" + folder + \"/daten\"\n",
    "        csvlist = os.listdir(data_path)\n",
    "        csvlist.sort()\n",
    "\n",
    "        for csv in csvlist:\n",
    "            if (os.path.isfile(data_path + \"/\" + csv)):\n",
    "                data = pd.read_csv(data_path + \"/\" + csv, delimiter=\";\", index_col = False)\n",
    "                calc_time_from_row_count = (data.shape[0] * 10)\n",
    "                \n",
    "                if (calc_time_from_row_count >= 50 and calc_time_from_row_count <= 300):\n",
    "                    subStr = re.findall(r'_(.+?)_',csv)\n",
    "                    all_dataset['label'].append(subStr)\n",
    "                    data = selection_extention(data)\n",
    "                    all_dataset['data'].append(convert_to_np(data))\n",
    "                    #all_dataset['data'].append(data)\n",
    "\n",
    "    pickle.dump(all_dataset, open('pickle.pk1', 'wb'))\n",
    "\n",
    "else:\n",
    "    all_dataset =  pickle.load(open('pickle.pk1', 'rb'))"
   ]
  },
  {
   "cell_type": "code",
   "execution_count": 6,
   "id": "de5be566-24e0-4e32-9102-bcdb3adceedc",
   "metadata": {},
   "outputs": [],
   "source": [
    "X, y = all_dataset[\"data\"], all_dataset[\"label\"]\n",
    "train_data, val_data, train_labels, val_labels = train_test_split(X, y, test_size=0.5)\n",
    "train_labels = numpy.array(train_labels).flatten()"
   ]
  },
  {
   "cell_type": "code",
   "execution_count": 7,
   "id": "6b2b21d7-d8ee-482f-8156-0431e0ad7004",
   "metadata": {},
   "outputs": [
    {
     "name": "stdout",
     "output_type": "stream",
     "text": [
      "(200,)\n",
      "                  precision    recall  f1-score   support\n",
      "\n",
      "       Clockwise       1.00      0.98      0.99        50\n",
      "CounterClockwise       1.00      1.00      1.00        47\n",
      "             Nod       1.00      1.00      1.00        50\n",
      "           Shake       0.98      1.00      0.99        53\n",
      "\n",
      "        accuracy                           0.99       200\n",
      "       macro avg       1.00      0.99      1.00       200\n",
      "    weighted avg       1.00      0.99      0.99       200\n",
      "\n"
     ]
    }
   ],
   "source": [
    "model = RandomForestClassifier(n_estimators=300, n_jobs=-1, random_state =1)\n",
    "model.fit(train_data, train_labels)\n",
    "predicted_labels = model.predict(val_data)\n",
    "\n",
    "print(train_labels.shape)\n",
    "\n",
    "                  \n",
    "print(classification_report(numpy.array(val_labels), predicted_labels))\n",
    "model_file_name = 'model.sav'\n",
    "pickle.dump(model, open(model_file_name, 'wb'))"
   ]
  },
  {
   "cell_type": "code",
   "execution_count": 8,
   "id": "245b07b4-d48a-4a75-b2c7-bbef72f92706",
   "metadata": {},
   "outputs": [
    {
     "data": {
      "image/png": "[encoded data removed]",
      "text/plain": [
       "<Figure size 1080x1080 with 2 Axes>"
      ]
     },
     "metadata": {
      "needs_background": "light"
     },
     "output_type": "display_data"
    }
   ],
   "source": [
    "fig, ax = plt.subplots(figsize=(15,15))\n",
    "\n",
    "disp = ConfusionMatrixDisplay.from_predictions(numpy.array(val_labels), predicted_labels, ax=ax)\n",
    "disp.figure_.suptitle(\"Confusion Matrix\")\n",
    "\n",
    "plt.show()"
   ]
  },
  {
   "cell_type": "code",
   "execution_count": 19,
   "id": "3220488f-23c5-4b7e-8d29-1cb34fedef5e",
   "metadata": {},
   "outputs": [],
   "source": [
    "# LAST CELL: Kill the kernel in the end to prevent idle kernels\n",
    "exit()"
   ]
  }
 ],
 "metadata": {
  "kernelspec": {
   "display_name": "Python 3",
   "language": "python",
   "name": "python3"
  },
  "language_info": {
   "codemirror_mode": {
    "name": "ipython",
    "version": 3
   },
   "file_extension": ".py",
   "mimetype": "text/x-python",
   "name": "python",
   "nbconvert_exporter": "python",
   "pygments_lexer": "ipython3",
   "version": "3.8.10"
  },
  "vscode": {
   "interpreter": {
    "hash": "4fa998ec400a9321467fae5c84d5ec707b0b68335e119e3db53ad1ccebbbf78a"
   }
  }
 },
 "nbformat": 4,
 "nbformat_minor": 5
}
